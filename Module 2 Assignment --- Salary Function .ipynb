{
 "cells": [
  {
   "cell_type": "code",
   "execution_count": null,
   "id": "e8cf9975",
   "metadata": {},
   "outputs": [],
   "source": [
    "# Module 2 Assignment: Salary Function python code block\n",
    "# Start by importing the necessary libraries.\n",
    "import pandas as pd \n",
    "import zipfile\n",
    "import os\n",
    "\n",
    "# Requirement 1: Load the CSV data\n",
    "file_path = 'Total.csv'  # Ensure to include the correct file path in your working directory\n",
    "try:\n",
    "    salary_data = pd.read_csv(r'C:\\Users\\user\\Documents\\Nexford Assgt2\\Total.csv')# Note: This is my own directory file path.\n",
    "    print(\"Data loaded successfully.\")\n",
    "except FileNotFoundError:\n",
    "    print(\"Error: File not found.\")\n",
    "except Exception as e:\n",
    "    print(f\"Unexpected error: {e}\")\n",
    "    \n",
    "\n",
    "# Requirement 2: Create a dictionary for employee data\n",
    "employee_dict = salary_data.set_index('EmployeeName').T.to_dict()\n",
    "\n",
    "# Requirement 3: This function will retrieve employee details\n",
    "def get_employee_details(name):\n",
    "    try:\n",
    "        details = employee_dict[name]\n",
    "        print(f\"Details for {name}: {details}\")\n",
    "        return details\n",
    "    except KeyError:\n",
    "        print(f\"Error: Employee '{name}' not found.\")\n",
    "        return None\n",
    "\n",
    "# Test the function by passing in an employee name\n",
    "get_employee_details(\"GARY JIMENEZ\")  \n",
    "\n",
    "# Requirement  4: Export some selected employee details to CSV\n",
    "selected_names = [\"David Wong\", \"MICHAEL MORRIS\", \"ALSON LEE\"]  # Three employees details was passed\n",
    "selected_data = [get_employee_details(name) for name in selected_names if get_employee_details(name)]\n",
    "\n",
    "# Convert to DataFrame\n",
    "export_salary_data = pd.DataFrame(selected_data)\n",
    "export_path = \"Employee Profile\"\n",
    "os.makedirs(export_path, exist_ok=True)\n",
    "csv_file = os.path.join(export_path, \"employee_details.csv\")\n",
    "export_salary_data.to_csv(csv_file, index=False)\n",
    "\n",
    "# Requirement 5: Zip the folder\n",
    "zip_file = \"Employee_Profile.zip\"\n",
    "with zipfile.ZipFile(zip_file, 'w', zipfile.ZIP_DEFLATED) as zipf:\n",
    "    for root, dirs, files in os.walk(export_path):\n",
    "        for file in files:\n",
    "            zipf.write(os.path.join(root, file), arcname=os.path.join(os.path.basename(root), file))\n",
    "\n",
    "print(\"Employee details exported and zipped successfully.\")\n"
   ]
  }
 ],
 "metadata": {
  "kernelspec": {
   "display_name": "Python 3 (ipykernel)",
   "language": "python",
   "name": "python3"
  },
  "language_info": {
   "codemirror_mode": {
    "name": "ipython",
    "version": 3
   },
   "file_extension": ".py",
   "mimetype": "text/x-python",
   "name": "python",
   "nbconvert_exporter": "python",
   "pygments_lexer": "ipython3",
   "version": "3.9.12"
  }
 },
 "nbformat": 4,
 "nbformat_minor": 5
}
